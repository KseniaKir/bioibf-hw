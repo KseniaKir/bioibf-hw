{
 "cells": [
  {
   "cell_type": "code",
   "execution_count": 1,
   "metadata": {},
   "outputs": [],
   "source": [
    "from scipy.stats  import stats\n",
    "import scipy\n",
    "import pandas as pd\n",
    "import seaborn as sns\n",
    "import numpy as np\n",
    "import matplotlib.pyplot as plt"
   ]
  },
  {
   "cell_type": "code",
   "execution_count": 7,
   "metadata": {},
   "outputs": [
    {
     "data": {
      "text/html": [
       "<div>\n",
       "<style scoped>\n",
       "    .dataframe tbody tr th:only-of-type {\n",
       "        vertical-align: middle;\n",
       "    }\n",
       "\n",
       "    .dataframe tbody tr th {\n",
       "        vertical-align: top;\n",
       "    }\n",
       "\n",
       "    .dataframe thead th {\n",
       "        text-align: right;\n",
       "    }\n",
       "</style>\n",
       "<table border=\"1\" class=\"dataframe\">\n",
       "  <thead>\n",
       "    <tr style=\"text-align: right;\">\n",
       "      <th></th>\n",
       "      <th>TCGA-A6-2671-01A</th>\n",
       "      <th>TCGA-A6-2675-01A</th>\n",
       "      <th>TCGA-A6-2678-01A</th>\n",
       "      <th>TCGA-A6-2679-01A</th>\n",
       "      <th>TCGA-A6-2680-01A</th>\n",
       "      <th>TCGA-A6-2671-11A</th>\n",
       "      <th>TCGA-A6-2675-11A</th>\n",
       "      <th>TCGA-A6-2678-11A</th>\n",
       "      <th>TCGA-A6-2679-11A</th>\n",
       "      <th>TCGA-A6-2680-11A</th>\n",
       "    </tr>\n",
       "  </thead>\n",
       "  <tbody>\n",
       "    <tr>\n",
       "      <th>A1CF</th>\n",
       "      <td>0.104572</td>\n",
       "      <td>1.879323</td>\n",
       "      <td>2.263045</td>\n",
       "      <td>0.591325</td>\n",
       "      <td>1.748081</td>\n",
       "      <td>2.806357</td>\n",
       "      <td>1.943005</td>\n",
       "      <td>3.286552</td>\n",
       "      <td>2.621292</td>\n",
       "      <td>3.730646</td>\n",
       "    </tr>\n",
       "    <tr>\n",
       "      <th>A2M</th>\n",
       "      <td>5.245269</td>\n",
       "      <td>6.391484</td>\n",
       "      <td>5.349484</td>\n",
       "      <td>3.757025</td>\n",
       "      <td>5.531613</td>\n",
       "      <td>6.595546</td>\n",
       "      <td>7.227086</td>\n",
       "      <td>7.368415</td>\n",
       "      <td>6.973612</td>\n",
       "      <td>6.050510</td>\n",
       "    </tr>\n",
       "    <tr>\n",
       "      <th>A4GALT</th>\n",
       "      <td>1.950884</td>\n",
       "      <td>2.658956</td>\n",
       "      <td>1.106100</td>\n",
       "      <td>2.531637</td>\n",
       "      <td>2.134035</td>\n",
       "      <td>2.577567</td>\n",
       "      <td>3.497008</td>\n",
       "      <td>2.434910</td>\n",
       "      <td>2.275149</td>\n",
       "      <td>2.388146</td>\n",
       "    </tr>\n",
       "    <tr>\n",
       "      <th>AAAS</th>\n",
       "      <td>3.766274</td>\n",
       "      <td>3.391560</td>\n",
       "      <td>3.563471</td>\n",
       "      <td>4.029141</td>\n",
       "      <td>3.847224</td>\n",
       "      <td>3.119263</td>\n",
       "      <td>3.014724</td>\n",
       "      <td>3.237715</td>\n",
       "      <td>3.311642</td>\n",
       "      <td>2.905479</td>\n",
       "    </tr>\n",
       "    <tr>\n",
       "      <th>AACS</th>\n",
       "      <td>2.175574</td>\n",
       "      <td>1.867312</td>\n",
       "      <td>1.953893</td>\n",
       "      <td>2.751217</td>\n",
       "      <td>2.677885</td>\n",
       "      <td>2.120328</td>\n",
       "      <td>2.458516</td>\n",
       "      <td>1.999648</td>\n",
       "      <td>2.254447</td>\n",
       "      <td>1.841581</td>\n",
       "    </tr>\n",
       "    <tr>\n",
       "      <th>...</th>\n",
       "      <td>...</td>\n",
       "      <td>...</td>\n",
       "      <td>...</td>\n",
       "      <td>...</td>\n",
       "      <td>...</td>\n",
       "      <td>...</td>\n",
       "      <td>...</td>\n",
       "      <td>...</td>\n",
       "      <td>...</td>\n",
       "      <td>...</td>\n",
       "    </tr>\n",
       "    <tr>\n",
       "      <th>ZYX</th>\n",
       "      <td>7.079713</td>\n",
       "      <td>6.218721</td>\n",
       "      <td>5.461783</td>\n",
       "      <td>7.127480</td>\n",
       "      <td>7.115423</td>\n",
       "      <td>5.829922</td>\n",
       "      <td>6.972751</td>\n",
       "      <td>5.301008</td>\n",
       "      <td>5.680089</td>\n",
       "      <td>5.772487</td>\n",
       "    </tr>\n",
       "    <tr>\n",
       "      <th>ZZEF1</th>\n",
       "      <td>2.211049</td>\n",
       "      <td>2.551468</td>\n",
       "      <td>1.909931</td>\n",
       "      <td>2.294759</td>\n",
       "      <td>2.474978</td>\n",
       "      <td>4.242123</td>\n",
       "      <td>3.774900</td>\n",
       "      <td>4.046234</td>\n",
       "      <td>4.280730</td>\n",
       "      <td>4.595751</td>\n",
       "    </tr>\n",
       "    <tr>\n",
       "      <th>ZZZ3</th>\n",
       "      <td>1.740266</td>\n",
       "      <td>2.415543</td>\n",
       "      <td>2.813321</td>\n",
       "      <td>1.002186</td>\n",
       "      <td>1.913011</td>\n",
       "      <td>1.822592</td>\n",
       "      <td>2.269227</td>\n",
       "      <td>2.135920</td>\n",
       "      <td>1.777673</td>\n",
       "      <td>1.982387</td>\n",
       "    </tr>\n",
       "    <tr>\n",
       "      <th>chr22-38_28785274-29006793.1</th>\n",
       "      <td>0.036039</td>\n",
       "      <td>0.030454</td>\n",
       "      <td>0.040292</td>\n",
       "      <td>0.056988</td>\n",
       "      <td>0.035910</td>\n",
       "      <td>0.021111</td>\n",
       "      <td>0.025444</td>\n",
       "      <td>0.030724</td>\n",
       "      <td>0.026504</td>\n",
       "      <td>0.017014</td>\n",
       "    </tr>\n",
       "    <tr>\n",
       "      <th>pk</th>\n",
       "      <td>3.058756</td>\n",
       "      <td>2.582003</td>\n",
       "      <td>2.759319</td>\n",
       "      <td>1.183826</td>\n",
       "      <td>3.052474</td>\n",
       "      <td>2.900497</td>\n",
       "      <td>4.410492</td>\n",
       "      <td>2.320271</td>\n",
       "      <td>1.576784</td>\n",
       "      <td>2.958896</td>\n",
       "    </tr>\n",
       "  </tbody>\n",
       "</table>\n",
       "<p>16789 rows × 10 columns</p>\n",
       "</div>"
      ],
      "text/plain": [
       "                              TCGA-A6-2671-01A  TCGA-A6-2675-01A  \\\n",
       "A1CF                                  0.104572          1.879323   \n",
       "A2M                                   5.245269          6.391484   \n",
       "A4GALT                                1.950884          2.658956   \n",
       "AAAS                                  3.766274          3.391560   \n",
       "AACS                                  2.175574          1.867312   \n",
       "...                                        ...               ...   \n",
       "ZYX                                   7.079713          6.218721   \n",
       "ZZEF1                                 2.211049          2.551468   \n",
       "ZZZ3                                  1.740266          2.415543   \n",
       "chr22-38_28785274-29006793.1          0.036039          0.030454   \n",
       "pk                                    3.058756          2.582003   \n",
       "\n",
       "                              TCGA-A6-2678-01A  TCGA-A6-2679-01A  \\\n",
       "A1CF                                  2.263045          0.591325   \n",
       "A2M                                   5.349484          3.757025   \n",
       "A4GALT                                1.106100          2.531637   \n",
       "AAAS                                  3.563471          4.029141   \n",
       "AACS                                  1.953893          2.751217   \n",
       "...                                        ...               ...   \n",
       "ZYX                                   5.461783          7.127480   \n",
       "ZZEF1                                 1.909931          2.294759   \n",
       "ZZZ3                                  2.813321          1.002186   \n",
       "chr22-38_28785274-29006793.1          0.040292          0.056988   \n",
       "pk                                    2.759319          1.183826   \n",
       "\n",
       "                              TCGA-A6-2680-01A  TCGA-A6-2671-11A  \\\n",
       "A1CF                                  1.748081          2.806357   \n",
       "A2M                                   5.531613          6.595546   \n",
       "A4GALT                                2.134035          2.577567   \n",
       "AAAS                                  3.847224          3.119263   \n",
       "AACS                                  2.677885          2.120328   \n",
       "...                                        ...               ...   \n",
       "ZYX                                   7.115423          5.829922   \n",
       "ZZEF1                                 2.474978          4.242123   \n",
       "ZZZ3                                  1.913011          1.822592   \n",
       "chr22-38_28785274-29006793.1          0.035910          0.021111   \n",
       "pk                                    3.052474          2.900497   \n",
       "\n",
       "                              TCGA-A6-2675-11A  TCGA-A6-2678-11A  \\\n",
       "A1CF                                  1.943005          3.286552   \n",
       "A2M                                   7.227086          7.368415   \n",
       "A4GALT                                3.497008          2.434910   \n",
       "AAAS                                  3.014724          3.237715   \n",
       "AACS                                  2.458516          1.999648   \n",
       "...                                        ...               ...   \n",
       "ZYX                                   6.972751          5.301008   \n",
       "ZZEF1                                 3.774900          4.046234   \n",
       "ZZZ3                                  2.269227          2.135920   \n",
       "chr22-38_28785274-29006793.1          0.025444          0.030724   \n",
       "pk                                    4.410492          2.320271   \n",
       "\n",
       "                              TCGA-A6-2679-11A  TCGA-A6-2680-11A  \n",
       "A1CF                                  2.621292          3.730646  \n",
       "A2M                                   6.973612          6.050510  \n",
       "A4GALT                                2.275149          2.388146  \n",
       "AAAS                                  3.311642          2.905479  \n",
       "AACS                                  2.254447          1.841581  \n",
       "...                                        ...               ...  \n",
       "ZYX                                   5.680089          5.772487  \n",
       "ZZEF1                                 4.280730          4.595751  \n",
       "ZZZ3                                  1.777673          1.982387  \n",
       "chr22-38_28785274-29006793.1          0.026504          0.017014  \n",
       "pk                                    1.576784          2.958896  \n",
       "\n",
       "[16789 rows x 10 columns]"
      ]
     },
     "execution_count": 7,
     "metadata": {},
     "output_type": "execute_result"
    }
   ],
   "source": [
    "#4\n",
    "tsv =  'colon_cancer_tumor_vs_normal_paired_FPKM.tsv'\n",
    "genes = pd.read_csv(tsv, sep='\\t', index_col=0)\n",
    "genes"
   ]
  },
  {
   "cell_type": "code",
   "execution_count": 68,
   "metadata": {},
   "outputs": [],
   "source": [
    "#pd.options.mode.chained_assignment = None "
   ]
  },
  {
   "cell_type": "code",
   "execution_count": 84,
   "metadata": {},
   "outputs": [],
   "source": [
    "healthy = genes.loc[:, 'TCGA-A6-2671-11A':'TCGA-A6-2680-11A']\n",
    "cancer = genes.loc[:, 'TCGA-A6-2671-01A':'TCGA-A6-2680-01A']\n",
    "p = scipy.stats.ttest_rel(healthy, cancer, axis=1)\n",
    "unp = scipy.stats.ttest_ind(healthy, cancer, axis=1)\n",
    "pair = []\n",
    "unpair = []\n",
    "for i in range(16789):\n",
    "    pair.append(p[0][i])\n",
    "    unpair.append(unp[0][i])\n",
    "healthy['Paired'] = pair\n",
    "healthy = healthy.sort_values(by='Paired', ascending=False)\n",
    "p_sign = healthy.iloc[:10]\n",
    "healthy = healthy.drop(['Paired'], axis=1)\n",
    "l1 = p_sign.index.tolist()"
   ]
  },
  {
   "cell_type": "code",
   "execution_count": 85,
   "metadata": {},
   "outputs": [],
   "source": [
    "healthy['Unpaired'] = unpair\n",
    "healthy = healthy.sort_values(by='Unpaired', ascending=False)\n",
    "unp_sign = healthy.iloc[:10]\n",
    "healthy = healthy.drop(['Unpaired'], axis=1)\n",
    "l2 = unp_sign.index.tolist()"
   ]
  },
  {
   "cell_type": "code",
   "execution_count": 87,
   "metadata": {},
   "outputs": [
    {
     "data": {
      "text/plain": [
       "set()"
      ]
     },
     "execution_count": 87,
     "metadata": {},
     "output_type": "execute_result"
    }
   ],
   "source": [
    "inter = set.intersection(set(l1), set(l2))\n",
    "inter"
   ]
  },
  {
   "cell_type": "code",
   "execution_count": 110,
   "metadata": {},
   "outputs": [
    {
     "name": "stderr",
     "output_type": "stream",
     "text": [
      "/Users/kseniakirdey/opt/anaconda3/lib/python3.8/site-packages/scipy/stats/morestats.py:1681: UserWarning: p-value may not be accurate for N > 5000.\n",
      "  warnings.warn(\"p-value may not be accurate for N > 5000.\")\n"
     ]
    },
    {
     "data": {
      "text/plain": [
       "(4.0, 14.0)"
      ]
     },
     "execution_count": 110,
     "metadata": {},
     "output_type": "execute_result"
    },
    {
     "data": {
      "image/png": "[encoded data removed]",
      "text/plain": [
       "<Figure size 432x288 with 1 Axes>"
      ]
     },
     "metadata": {
      "needs_background": "light"
     },
     "output_type": "display_data"
    }
   ],
   "source": [
    "#5\n",
    "tsv =  'breast_cancer_1000_genes.tsv'\n",
    "b_genes = pd.read_csv(tsv, sep='\\t', index_col=0)\n",
    "b_genes\n",
    "t = scipy.stats.shapiro(b_genes)\n",
    "b_genes_gr = b_genes.iloc[:100]\n",
    "b_genes_gr.index.name = 'genes'\n",
    "sns.histplot(data=b_genes_gr, legend=False, palette=\"crest\")\n",
    "plt.xlim(4, 14)"
   ]
  },
  {
   "cell_type": "code",
   "execution_count": 111,
   "metadata": {},
   "outputs": [
    {
     "data": {
      "text/plain": [
       "ShapiroResult(statistic=0.9261412620544434, pvalue=0.0)"
      ]
     },
     "execution_count": 111,
     "metadata": {},
     "output_type": "execute_result"
    }
   ],
   "source": [
    "t"
   ]
  },
  {
   "cell_type": "code",
   "execution_count": 2,
   "metadata": {},
   "outputs": [],
   "source": [
    "#1\n",
    "#https://drive.google.com/file/d/1Ja_PQlbL5oo-pqCBjsAdb1K6BfJga5mG/view?usp=sharing"
   ]
  },
  {
   "cell_type": "code",
   "execution_count": 22,
   "metadata": {},
   "outputs": [
    {
     "name": "stdout",
     "output_type": "stream",
     "text": [
      "Ttest_relResult(statistic=-5.601281313739622e+16, pvalue=0.0)\n",
      "Ttest_indResult(statistic=-1.2064800285980413, pvalue=0.22907199095857184)\n"
     ]
    }
   ],
   "source": [
    "#2\n",
    "df = pd.DataFrame()\n",
    "df['x'] = np.linspace(10, 30, 100)\n",
    "df['y'] = df['x'].add(1)\n",
    "p = scipy.stats.ttest_rel(df['x'], df['y'])\n",
    "unp = scipy.stats.ttest_ind(df['x'], df['y'])\n",
    "print (p)\n",
    "print (unp)"
   ]
  },
  {
   "cell_type": "code",
   "execution_count": 90,
   "metadata": {},
   "outputs": [
    {
     "name": "stdout",
     "output_type": "stream",
     "text": [
      "Ttest_relResult(statistic=2.425702681294201, pvalue=0.13610027088216844)\n",
      "Ttest_indResult(statistic=2.425217492253593, pvalue=0.07235380373526501)\n"
     ]
    }
   ],
   "source": [
    "#3\n",
    "df = pd.DataFrame()\n",
    "df['x'] = np.linspace(1000, 1001, 3)\n",
    "df['y'] = np.linspace(-5000, 0, 3)\n",
    "p = scipy.stats.ttest_rel(df['x'], df['y'])\n",
    "unp = scipy.stats.ttest_ind(df['x'], df['y'])\n",
    "print (p)\n",
    "print (unp)"
   ]
  },
  {
   "cell_type": "code",
   "execution_count": null,
   "metadata": {},
   "outputs": [],
   "source": []
  }
 ],
 "metadata": {
  "kernelspec": {
   "display_name": "Python 3",
   "language": "python",
   "name": "python3"
  },
  "language_info": {
   "codemirror_mode": {
    "name": "ipython",
    "version": 3
   },
   "file_extension": ".py",
   "mimetype": "text/x-python",
   "name": "python",
   "nbconvert_exporter": "python",
   "pygments_lexer": "ipython3",
   "version": "3.8.5"
  }
 },
 "nbformat": 4,
 "nbformat_minor": 4
}
