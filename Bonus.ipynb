{
 "cells": [
  {
   "cell_type": "markdown",
   "metadata": {},
   "source": [
    "Написать программу, принимающую на вход две нуклеотидные последовательности, и вычисляющую score оптимального выравнивания с помощью алгоритма Нидлмана-Вунша, используя матрицу штрафов DNAfull и аффинный штраф за гэп(𝑑= 10, 𝑒= 0.5)."
   ]
  },
  {
   "cell_type": "code",
   "execution_count": 14,
   "metadata": {},
   "outputs": [
    {
     "name": "stdout",
     "output_type": "stream",
     "text": [
      "[[-20.  -20.5 -21.  -21.5 -22. ]\n",
      " [-10.  -10.  -10.  -10.    0. ]\n",
      " [-10.  -10.  -10.  -10.    0. ]] \n",
      "\n",
      "[[-20.  -10.   -0.5  -0.5  -0.5]\n",
      " [-20.5 -10.   -0.5  -0.5  -0.5]\n",
      " [-21.    0.    0.    0.    0. ]] \n",
      "\n",
      "[[  0.  -10.  -10.5 -11.  -11.5 -12. ]\n",
      " [-10.    5.  -10.   -0.5  -0.5  -0.5]\n",
      " [-10.5 -10.   10.   -0.5  -0.5   0. ]\n",
      " [-11.  -10.    0.    6.    0.    4.5]] \n",
      "\n"
     ]
    }
   ],
   "source": [
    "import numpy as np\n",
    "\n",
    "seq1 = 'CTA'\n",
    "seq2 = 'CTCGA'\n",
    "\n",
    "# Make matrices\n",
    "\n",
    "S_matrix = np.zeros((len(seq1)+1, len(seq2)+1))\n",
    "A_matrix = np.zeros((len(seq1), len(seq2)))\n",
    "B_matrix = np.zeros((len(seq1), len(seq2)))\n",
    "match_matrix = np.zeros((len(seq1), len(seq2)))\n",
    "\n",
    "\n",
    "match_score = 5\n",
    "mismatch_score = -4\n",
    "d = 10\n",
    "e = 0.5\n",
    "\n",
    "for i in range(len(seq2)):\n",
    "    for j in range (len(seq1)):\n",
    "        if seq2[i] == seq1[j]:\n",
    "            match_matrix[j][i]=match_score\n",
    "        else:\n",
    "            match_matrix[j][i]=mismatch_score\n",
    "# print (match_matrix)\n",
    "\n",
    "# Filling S matrix with certain conditions\n",
    "# Lines\n",
    "for i in range(0, len(seq1)+1):\n",
    "    S_matrix[i][0] = -d-(i-1)*e\n",
    "# Columns\n",
    "for j in range(0, len(seq2)+1):\n",
    "    S_matrix[0][j] = -d-(j-1)*e\n",
    "S_matrix[0][0] = 0\n",
    "\n",
    "\n",
    "# Filling A and B matrices\n",
    "for i in range(1, len(seq2)+1):\n",
    "    A_matrix[0][i-1] = S_matrix[0][i]-10\n",
    "for j in range(1, len(seq1)+1):\n",
    "    B_matrix[j-1][0] = S_matrix[j][0]-10\n",
    "k=0\n",
    "\n",
    "for i in range (1, len(seq1)+1):\n",
    "    for j in range(1, len(seq2)+1):\n",
    "        S_matrix[i][j] = max (S_matrix[i-1][j-1]+match_matrix[i-1][j-1],\n",
    "                              A_matrix[i-1][j-1],\n",
    "                              B_matrix[i-1][j-1])        \n",
    "        \n",
    "        if i<len(seq1) and j<len(seq2):\n",
    "            A_matrix[i][j-1] = max(A_matrix[i-1][j-1]-e,\n",
    "                                   S_matrix[i+1][j]-d)\n",
    "            B_matrix[i-1][j] = max(B_matrix[i][j-1]-e,\n",
    "                                   S_matrix[i][j+1]-d)      \n",
    "\n",
    "A_matrix[i][j-1] = max(A_matrix[i-1][j-1]-e,\n",
    "                       S_matrix[i+1][j]-d)\n",
    "\n",
    "B_matrix[i-1][j] = max(B_matrix[i][j-1]-e,\n",
    "                       S_matrix[i][j+1]-d)\n",
    "\n",
    "S_matrix[i][j] = max (S_matrix[i-1][j-1]+match_matrix[i-1][j-1],\n",
    "                      A_matrix[i-1][j-1],\n",
    "                      B_matrix[i-1][j-1])  \n",
    "'''\n",
    "for i in range (1, len(seq1)-1):\n",
    "    for j in range(1, len(seq2)-1):\n",
    "\n",
    "            S_matrix[i+1][j+1] = max(S_matrix[i][j]+match_matrix[i][j],\n",
    "                                     A_matrix[i][j],\n",
    "                                     B_matrix[i][j])\n",
    "            \n",
    "       \n",
    "            A_matrix[i+1][j] = max(A_matrix[i][j]-e,\n",
    "                                   S_matrix[i+1][j+1]-d)\n",
    "            \n",
    "            B_matrix[i][j+1] = max(B_matrix[i][j]-e,\n",
    "                               S_matrix[i+1][j+1]-d)\n",
    "'''\n",
    "\n",
    "\n",
    "\n",
    "print(A_matrix, '\\n')\n",
    "print(B_matrix, '\\n')\n",
    "print(S_matrix, '\\n')\n"
   ]
  },
  {
   "cell_type": "code",
   "execution_count": 5,
   "metadata": {},
   "outputs": [
    {
     "name": "stdout",
     "output_type": "stream",
     "text": [
      "0\n",
      "1\n",
      "2\n",
      "3\n"
     ]
    }
   ],
   "source": [
    "x='kjewk'\n",
    "for i in range(len(x)-1):\n",
    "    print (i)"
   ]
  },
  {
   "cell_type": "markdown",
   "metadata": {},
   "source": []
  },
  {
   "cell_type": "code",
   "execution_count": null,
   "metadata": {},
   "outputs": [],
   "source": []
  },
  {
   "cell_type": "code",
   "execution_count": null,
   "metadata": {},
   "outputs": [],
   "source": []
  }
 ],
 "metadata": {
  "kernelspec": {
   "display_name": "Python 3",
   "language": "python",
   "name": "python3"
  },
  "language_info": {
   "codemirror_mode": {
    "name": "ipython",
    "version": 3
   },
   "file_extension": ".py",
   "mimetype": "text/x-python",
   "name": "python",
   "nbconvert_exporter": "python",
   "pygments_lexer": "ipython3",
   "version": "3.7.4"
  }
 },
 "nbformat": 4,
 "nbformat_minor": 2
}
