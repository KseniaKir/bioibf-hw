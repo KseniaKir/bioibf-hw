{
 "cells": [
  {
   "cell_type": "code",
   "execution_count": 2,
   "metadata": {},
   "outputs": [],
   "source": [
    "import pandas as pd\n",
    "import matplotlib.pyplot as plt\n",
    "import numpy as np\n",
    "from scipy.optimize import curve_fit"
   ]
  },
  {
   "cell_type": "code",
   "execution_count": 3,
   "metadata": {},
   "outputs": [
    {
     "data": {
      "text/html": [
       "<div>\n",
       "<style scoped>\n",
       "    .dataframe tbody tr th:only-of-type {\n",
       "        vertical-align: middle;\n",
       "    }\n",
       "\n",
       "    .dataframe tbody tr th {\n",
       "        vertical-align: top;\n",
       "    }\n",
       "\n",
       "    .dataframe thead th {\n",
       "        text-align: right;\n",
       "    }\n",
       "</style>\n",
       "<table border=\"1\" class=\"dataframe\">\n",
       "  <thead>\n",
       "    <tr style=\"text-align: right;\">\n",
       "      <th></th>\n",
       "      <th>pH</th>\n",
       "      <th>V(max), мкмоль субстрата/мин</th>\n",
       "    </tr>\n",
       "  </thead>\n",
       "  <tbody>\n",
       "    <tr>\n",
       "      <th>0</th>\n",
       "      <td>5.0</td>\n",
       "      <td>1.0</td>\n",
       "    </tr>\n",
       "    <tr>\n",
       "      <th>1</th>\n",
       "      <td>6.0</td>\n",
       "      <td>12.0</td>\n",
       "    </tr>\n",
       "    <tr>\n",
       "      <th>2</th>\n",
       "      <td>6.5</td>\n",
       "      <td>47.5</td>\n",
       "    </tr>\n",
       "    <tr>\n",
       "      <th>3</th>\n",
       "      <td>7.0</td>\n",
       "      <td>84.0</td>\n",
       "    </tr>\n",
       "    <tr>\n",
       "      <th>4</th>\n",
       "      <td>7.5</td>\n",
       "      <td>214.0</td>\n",
       "    </tr>\n",
       "  </tbody>\n",
       "</table>\n",
       "</div>"
      ],
      "text/plain": [
       "    pH  V(max), мкмоль субстрата/мин\n",
       "0  5.0                           1.0\n",
       "1  6.0                          12.0\n",
       "2  6.5                          47.5\n",
       "3  7.0                          84.0\n",
       "4  7.5                         214.0"
      ]
     },
     "execution_count": 3,
     "metadata": {},
     "output_type": "execute_result"
    }
   ],
   "source": [
    "tsv = 'biochemistry.xlsx'\n",
    "df = pd.read_excel(tsv)\n",
    "df.head()"
   ]
  },
  {
   "cell_type": "code",
   "execution_count": 4,
   "metadata": {},
   "outputs": [],
   "source": [
    "xData = df.iloc[:, 0]\n",
    "yData = df.iloc[:, 1]\n",
    "# plt.scatter(x=xData, y=yData)"
   ]
  },
  {
   "cell_type": "code",
   "execution_count": 5,
   "metadata": {},
   "outputs": [],
   "source": [
    "initialGuess = [402, 7.5, 10.2]"
   ]
  },
  {
   "cell_type": "code",
   "execution_count": 6,
   "metadata": {},
   "outputs": [],
   "source": [
    "def func(x, V, pKa1, pKa2):\n",
    "    return V/(1+10**(pKa1-x)+10**(x-pKa2))"
   ]
  },
  {
   "cell_type": "code",
   "execution_count": 7,
   "metadata": {},
   "outputs": [
    {
     "name": "stdout",
     "output_type": "stream",
     "text": [
      "[441.82315756   7.5686775   10.31886305]\n"
     ]
    }
   ],
   "source": [
    "popt, pcov = curve_fit(func, xData, yData, initialGuess)\n",
    "print(popt)"
   ]
  },
  {
   "cell_type": "code",
   "execution_count": 9,
   "metadata": {},
   "outputs": [
    {
     "data": {
      "image/png": "[encoded data removed]",
      "text/plain": [
       "<Figure size 432x288 with 1 Axes>"
      ]
     },
     "metadata": {
      "needs_background": "light"
     },
     "output_type": "display_data"
    }
   ],
   "source": [
    "plt.plot(xData, func(xData, *popt), color='lightpink')\n",
    "plt.plot(xData, yData, 'bo', color='steelblue')\n",
    "\n",
    "line1_x = [7.5686775, 7.5686775]\n",
    "line1_y = [0, 440]\n",
    "plt.plot(line1_x, line1_y, '--', color='steelblue')\n",
    "plt.annotate('pKa = 7.56', (6, 340))\n",
    "\n",
    "line2_x = [10.31886305, 10.31886305]\n",
    "plt.plot(line2_x, line1_y, '--', color='steelblue')\n",
    "plt.annotate('pKa = 10.32', (10.5, 340))\n",
    "\n",
    "line3_x = [5, 12]\n",
    "line3_y = [441.82315756, 441.82315756]\n",
    "plt.plot(line3_x, line3_y, '--', color='steelblue')\n",
    "plt.annotate('Vmax = 441.82', (10.5, 410))\n",
    "\n",
    "plt.ylabel('Vmax, мкмоль субстрата/мин') \n",
    "plt.xlabel('pH')\n",
    "\n",
    "plt.show()"
   ]
  },
  {
   "cell_type": "code",
   "execution_count": null,
   "metadata": {},
   "outputs": [],
   "source": []
  }
 ],
 "metadata": {
  "kernelspec": {
   "display_name": "Python 3",
   "language": "python",
   "name": "python3"
  },
  "language_info": {
   "codemirror_mode": {
    "name": "ipython",
    "version": 3
   },
   "file_extension": ".py",
   "mimetype": "text/x-python",
   "name": "python",
   "nbconvert_exporter": "python",
   "pygments_lexer": "ipython3",
   "version": "3.8.5"
  }
 },
 "nbformat": 4,
 "nbformat_minor": 4
}
